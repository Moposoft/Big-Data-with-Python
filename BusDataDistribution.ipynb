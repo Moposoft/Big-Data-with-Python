{
 "cells": [
  {
   "cell_type": "code",
   "execution_count": 1,
   "metadata": {},
   "outputs": [
    {
     "name": "stdout",
     "output_type": "stream",
     "text": [
      "Overwriting bus_data_distribution.py\n"
     ]
    }
   ],
   "source": [
    "%%writefile bus_data_distribution.py\n",
    "\n",
    "from mrjob.job import MRJob\n",
    "from mrjob.protocol import RawValueProtocol\n",
    "\n",
    "class BusTimes(MRJob):\n",
    "    OUTPUT_PROTOCOL = RawValueProtocol\n",
    "    def mapper(self, _, line):\n",
    "        time = line.split(\";\")[1].split(\":\")[0]\n",
    "        if time not in [\"time\",\"Time\",\"NaN\",\" \",\"\"]:\n",
    "            yield (time, 1)\n",
    "        else: \n",
    "            for x in range(24):\n",
    "                yield (str(x).zfill(2), 0)\n",
    "            \n",
    "    def reducer(self, time, counts_iter):\n",
    "        yield (time, time+\";\" +str(sum(counts_iter)))\n",
    "\n",
    "if __name__ == '__main__':\n",
    "    BusTimes.run()"
   ]
  },
  {
   "cell_type": "code",
   "execution_count": 2,
   "metadata": {},
   "outputs": [
    {
     "name": "stderr",
     "output_type": "stream",
     "text": [
      "No configs found; falling back on auto-configuration\n",
      "No configs specified for inline runner\n",
      "Creating temp directory C:\\Users\\Petri\\AppData\\Local\\Temp\\bus_data_distribution.Petri.20191128.171032.881731\n",
      "Running step 1 of 1...\n",
      "job output is in C:\\Users\\Petri\\AppData\\Local\\Temp\\bus_data_distribution.Petri.20191128.171032.881731\\output\n",
      "Streaming final output from C:\\Users\\Petri\\AppData\\Local\\Temp\\bus_data_distribution.Petri.20191128.171032.881731\\output...\n"
     ]
    },
    {
     "name": "stdout",
     "output_type": "stream",
     "text": [
      "00;11146\n",
      "01;0\n",
      "02;1658\n",
      "03;9169\n",
      "04;1715\n",
      "05;0\n",
      "06;0\n",
      "07;0\n",
      "08;130807\n",
      "09;222687\n",
      "10;7842\n",
      "11;55839\n",
      "12;63900\n",
      "13;267964\n",
      "14;159825\n",
      "15;30058\n",
      "16;110325\n",
      "17;68919\n",
      "18;228476\n",
      "19;88894\n",
      "20;73257\n",
      "21;107740\n",
      "22;66809\n",
      "23;11008\n"
     ]
    },
    {
     "name": "stderr",
     "output_type": "stream",
     "text": [
      "Removing temp directory C:\\Users\\Petri\\AppData\\Local\\Temp\\bus_data_distribution.Petri.20191128.171032.881731...\n"
     ]
    }
   ],
   "source": [
    "%run bus_data_distribution.py busdatas.csv"
   ]
  },
  {
   "cell_type": "code",
   "execution_count": null,
   "metadata": {},
   "outputs": [],
   "source": []
  }
 ],
 "metadata": {
  "kernelspec": {
   "display_name": "Python 3",
   "language": "python",
   "name": "python3"
  },
  "language_info": {
   "codemirror_mode": {
    "name": "ipython",
    "version": 3
   },
   "file_extension": ".py",
   "mimetype": "text/x-python",
   "name": "python",
   "nbconvert_exporter": "python",
   "pygments_lexer": "ipython3",
   "version": "3.7.4"
  }
 },
 "nbformat": 4,
 "nbformat_minor": 4
}
