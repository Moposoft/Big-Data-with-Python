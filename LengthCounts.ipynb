{
 "cells": [
  {
   "cell_type": "code",
   "execution_count": 1,
   "metadata": {},
   "outputs": [
    {
     "name": "stdout",
     "output_type": "stream",
     "text": [
      "Overwriting lencounts.py\n"
     ]
    }
   ],
   "source": [
    "%%writefile lencounts.py\n",
    "\n",
    "from mrjob.job import MRJob\n",
    "from mrjob.protocol import RawValueProtocol\n",
    "from collections import defaultdict \n",
    "import os\n",
    "import json\n",
    "\n",
    "class LengthCounts(MRJob):\n",
    "    OUTPUT_PROTOCOL = RawValueProtocol\n",
    "    def mapper(self, _, line):\n",
    "        file_name = os.getenv('mapreduce_map_input_file').split(\"//\")[1]\n",
    "        words = line.split()\n",
    "        for word in words:\n",
    "            yield file_name, word\n",
    "            \n",
    "    def combiner(self,key,counts_iter):\n",
    "        for word in list(counts_iter):\n",
    "            yield key, (len(word), 1)\n",
    "        \n",
    "    def reducer(self, key, counts_iter):\n",
    "        output = defaultdict(int) \n",
    "        output[\"file\"]=key\n",
    "        for k, v in counts_iter: \n",
    "            output[k] += v \n",
    "        outJson=json.dumps((output))\n",
    "        yield key, outJson\n",
    "    \n",
    "if __name__ == '__main__':\n",
    "    LengthCounts.run()"
   ]
  },
  {
   "cell_type": "code",
   "execution_count": 2,
   "metadata": {},
   "outputs": [
    {
     "name": "stderr",
     "output_type": "stream",
     "text": [
      "No configs found; falling back on auto-configuration\n",
      "No configs specified for inline runner\n",
      "Creating temp directory C:\\Users\\Petri\\AppData\\Local\\Temp\\lencounts.Petri.20191128.171352.618749\n",
      "Running step 1 of 1...\n",
      "job output is in C:\\Users\\Petri\\AppData\\Local\\Temp\\lencounts.Petri.20191128.171352.618749\\output\n",
      "Streaming final output from C:\\Users\\Petri\\AppData\\Local\\Temp\\lencounts.Petri.20191128.171352.618749\\output...\n"
     ]
    },
    {
     "name": "stdout",
     "output_type": "stream",
     "text": [
      "{\"file\": \"americana.txt1\", \"4\": 14080, \"10\": 2661, \"3\": 20757, \"5\": 11336, \"9\": 4145, \"6\": 9450, \"2\": 17785, \"7\": 8103, \"1\": 2912, \"8\": 5823, \"15\": 75, \"12\": 861, \"11\": 1435, \"13\": 336, \"14\": 186, \"17\": 17, \"16\": 30, \"18\": 4, \"19\": 2, \"30\": 1, \"20\": 1}\n",
      "{\"file\": \"americana.txt2\", \"2\": 18078, \"10\": 3181, \"4\": 13448, \"3\": 20303, \"5\": 10332, \"12\": 971, \"8\": 6196, \"6\": 9263, \"7\": 7924, \"1\": 2924, \"9\": 4810, \"11\": 1788, \"13\": 459, \"14\": 218, \"15\": 65, \"17\": 11, \"19\": 4, \"16\": 19, \"20\": 2, \"34\": 1, \"21\": 1, \"18\": 2}\n",
      "{\"file\": \"americana.txt3\", \"7\": 7911, \"5\": 11114, \"2\": 18364, \"14\": 177, \"13\": 450, \"3\": 20055, \"10\": 3086, \"4\": 13823, \"9\": 4764, \"6\": 8677, \"11\": 1573, \"8\": 5911, \"1\": 2989, \"12\": 1004, \"16\": 23, \"15\": 59, \"17\": 8, \"22\": 1, \"19\": 6, \"20\": 1, \"18\": 4}\n",
      "{\"file\": \"americana.txt4\", \"4\": 13506, \"5\": 11196, \"3\": 20870, \"6\": 8802, \"10\": 2806, \"2\": 17667, \"13\": 383, \"9\": 4372, \"7\": 8341, \"8\": 6130, \"12\": 912, \"11\": 1589, \"1\": 3142, \"14\": 168, \"15\": 78, \"18\": 12, \"16\": 18, \"23\": 2, \"19\": 3, \"21\": 2, \"17\": 1}\n",
      "{\"file\": \"americana.txt5\", \"2\": 17555, \"3\": 20217, \"10\": 2644, \"6\": 9209, \"1\": 3604, \"5\": 11287, \"4\": 13898, \"7\": 8348, \"8\": 5855, \"12\": 870, \"9\": 4259, \"11\": 1550, \"14\": 168, \"13\": 433, \"15\": 61, \"21\": 2, \"16\": 21, \"17\": 13, \"24\": 1, \"29\": 1, \"19\": 3, \"18\": 1}\n",
      "{\"file\": \"americana.txt6\", \"2\": 18726, \"3\": 20878, \"6\": 8666, \"8\": 5416, \"4\": 13979, \"1\": 3189, \"5\": 11088, \"7\": 7566, \"9\": 4140, \"14\": 220, \"11\": 1758, \"10\": 2931, \"12\": 922, \"13\": 439, \"15\": 53, \"16\": 11, \"19\": 1, \"17\": 9, \"27\": 1, \"24\": 1, \"18\": 3, \"28\": 1, \"20\": 1, \"23\": 1}\n",
      "{\"file\": \"americana.txt7\", \"7\": 7835, \"5\": 10729, \"8\": 6013, \"3\": 20054, \"4\": 14292, \"6\": 8734, \"14\": 203, \"2\": 18593, \"10\": 2943, \"1\": 3207, \"9\": 4355, \"11\": 1505, \"13\": 419, \"12\": 971, \"15\": 87, \"17\": 15, \"20\": 1, \"16\": 30, \"18\": 9, \"24\": 1, \"27\": 1, \"19\": 3}\n",
      "{\"file\": \"americana.txt8\", \"3\": 21165, \"4\": 14212, \"2\": 17925, \"5\": 10939, \"12\": 878, \"8\": 5736, \"6\": 9045, \"7\": 8007, \"11\": 1363, \"9\": 4404, \"13\": 371, \"10\": 2677, \"1\": 3017, \"14\": 164, \"15\": 43, \"19\": 4, \"16\": 22, \"17\": 17, \"33\": 1, \"23\": 1, \"25\": 1, \"18\": 4, \"21\": 2, \"20\": 2}\n",
      "{\"file\": \"americana.txt9\", \"2\": 6279, \"5\": 3990, \"9\": 1363, \"1\": 1078, \"8\": 1873, \"3\": 6914, \"4\": 4938, \"12\": 235, \"6\": 2837, \"7\": 2623, \"11\": 420, \"10\": 843, \"14\": 42, \"13\": 103, \"17\": 5, \"16\": 7, \"15\": 26, \"23\": 1, \"18\": 3, \"38\": 1, \"31\": 1, \"19\": 1, \"20\": 1, \"27\": 1}\n"
     ]
    },
    {
     "name": "stderr",
     "output_type": "stream",
     "text": [
      "Removing temp directory C:\\Users\\Petri\\AppData\\Local\\Temp\\lencounts.Petri.20191128.171352.618749...\n"
     ]
    }
   ],
   "source": [
    "%run lencounts.py americana.txt*"
   ]
  },
  {
   "cell_type": "code",
   "execution_count": null,
   "metadata": {},
   "outputs": [],
   "source": []
  }
 ],
 "metadata": {
  "kernelspec": {
   "display_name": "Python 3",
   "language": "python",
   "name": "python3"
  },
  "language_info": {
   "codemirror_mode": {
    "name": "ipython",
    "version": 3
   },
   "file_extension": ".py",
   "mimetype": "text/x-python",
   "name": "python",
   "nbconvert_exporter": "python",
   "pygments_lexer": "ipython3",
   "version": "3.7.4"
  }
 },
 "nbformat": 4,
 "nbformat_minor": 4
}
