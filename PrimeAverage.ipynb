{
 "cells": [
  {
   "cell_type": "code",
   "execution_count": 1,
   "metadata": {},
   "outputs": [
    {
     "name": "stdout",
     "output_type": "stream",
     "text": [
      "Overwriting prime_average.py\n"
     ]
    }
   ],
   "source": [
    "%%writefile prime_average.py\n",
    "\n",
    "from mrjob.job import MRJob\n",
    "\n",
    "class PrimeAverage(MRJob):\n",
    "    def mapper(self, _, line):\n",
    "        primes_in_line = line.split()\n",
    "        for prime in primes_in_line:\n",
    "            try: prime_int = int(prime)\n",
    "            except ValueError: pass\n",
    "            else: yield \"primes\", prime_int       \n",
    "        \n",
    "    def reducer(self, key, counts_iter):\n",
    "        count,total=0,0\n",
    "        for x in counts_iter:\n",
    "            count +=1\n",
    "            total += x\n",
    "        yield \"Average of primes\", total/count\n",
    "    \n",
    "if __name__ == '__main__':\n",
    "    PrimeAverage.run()"
   ]
  },
  {
   "cell_type": "code",
   "execution_count": 2,
   "metadata": {},
   "outputs": [
    {
     "name": "stderr",
     "output_type": "stream",
     "text": [
      "No configs found; falling back on auto-configuration\n",
      "No configs specified for inline runner\n",
      "Creating temp directory C:\\Users\\Petri\\AppData\\Local\\Temp\\prime_average.Petri.20191128.171201.008131\n",
      "Running step 1 of 1...\n",
      "job output is in C:\\Users\\Petri\\AppData\\Local\\Temp\\prime_average.Petri.20191128.171201.008131\\output\n",
      "Streaming final output from C:\\Users\\Petri\\AppData\\Local\\Temp\\prime_average.Petri.20191128.171201.008131\\output...\n"
     ]
    },
    {
     "name": "stdout",
     "output_type": "stream",
     "text": [
      "\"Average of primes\"\t7472966.967499\n"
     ]
    },
    {
     "name": "stderr",
     "output_type": "stream",
     "text": [
      "Removing temp directory C:\\Users\\Petri\\AppData\\Local\\Temp\\prime_average.Petri.20191128.171201.008131...\n"
     ]
    }
   ],
   "source": [
    "%run prime_average.py primes1.txt"
   ]
  },
  {
   "cell_type": "code",
   "execution_count": null,
   "metadata": {},
   "outputs": [],
   "source": []
  }
 ],
 "metadata": {
  "kernelspec": {
   "display_name": "Python 3",
   "language": "python",
   "name": "python3"
  },
  "language_info": {
   "codemirror_mode": {
    "name": "ipython",
    "version": 3
   },
   "file_extension": ".py",
   "mimetype": "text/x-python",
   "name": "python",
   "nbconvert_exporter": "python",
   "pygments_lexer": "ipython3",
   "version": "3.7.4"
  }
 },
 "nbformat": 4,
 "nbformat_minor": 4
}
